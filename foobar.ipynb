{
 "cells": [
  {
   "cell_type": "markdown",
   "id": "149227ae",
   "metadata": {},
   "source": [
    "# Task 1"
   ]
  },
  {
   "cell_type": "code",
   "execution_count": null,
   "id": "477ecf7d",
   "metadata": {},
   "outputs": [],
   "source": [
    "'https://foobar.withgoogle.com/'"
   ]
  },
  {
   "cell_type": "code",
   "execution_count": 42,
   "id": "e9fb7fd0",
   "metadata": {},
   "outputs": [],
   "source": [
    "def solution(i):\n",
    "    primes = getPrimeString()\n",
    "    id = primes[i:i+5]\n",
    "    return id"
   ]
  },
  {
   "cell_type": "code",
   "execution_count": 43,
   "id": "33259a2a",
   "metadata": {},
   "outputs": [],
   "source": [
    "def getPrimeString():\n",
    "    primes = \"\"\n",
    "    prime = 2\n",
    "\n",
    "    while len(primes) < 10005:\n",
    "        primes += str(prime)\n",
    "        prime +=1\n",
    "        while not isPrime(prime):\n",
    "            prime += 1\n",
    "    return primes    "
   ]
  },
  {
   "cell_type": "code",
   "execution_count": 44,
   "id": "60b5ca6d",
   "metadata": {},
   "outputs": [],
   "source": [
    "def isPrime(n):\n",
    "    if n == 1:\n",
    "        return False\n",
    "    i = 2\n",
    "    while i*i <= n:\n",
    "        if n % i ==0:\n",
    "            return False\n",
    "        i +=1\n",
    "    return True"
   ]
  },
  {
   "cell_type": "markdown",
   "id": "9fb88319",
   "metadata": {},
   "source": [
    "# Task 2"
   ]
  },
  {
   "cell_type": "code",
   "execution_count": 81,
   "id": "c6a43782",
   "metadata": {},
   "outputs": [],
   "source": [
    "class numbers:\n",
    "    def __init__(self, elevator):\n",
    "        self.full = elevator\n",
    "        split = list(map(int, elevator.strip().split('.')))\n",
    "        self.major = split[0]\n",
    "        self.minor = split[1] if len(split) > 1 else -1\n",
    "        self.revision = split[2] if len(split) > 2 else -1\n",
    "    def __lt__(self, other):\n",
    "        if self.major < other.major: return True\n",
    "        if self.major > other.major: return False\n",
    "        if self.minor < other.minor: return True\n",
    "        if self.minor > other.minor: return False\n",
    "        if self.revision < other.revision: return True\n",
    "        if self.revision > other.revision: return False"
   ]
  },
  {
   "cell_type": "code",
   "execution_count": 85,
   "id": "d7b2b980",
   "metadata": {},
   "outputs": [],
   "source": [
    "def solution(l):\n",
    "    els = []\n",
    "    for elevator in l:\n",
    "        els.append(numbers(elevator))\n",
    "    els.sort()\n",
    "    answer = [el.full for el in els]\n",
    "    return answer"
   ]
  },
  {
   "cell_type": "code",
   "execution_count": 425,
   "id": "deaf3e14",
   "metadata": {},
   "outputs": [],
   "source": [
    "from fractions import Fraction\n",
    "\n",
    "def solution(pegs):\n",
    "    #calculate the differences between pegs\n",
    "    diff = [pegs[i+1] - pegs[i] for i in range(len(pegs)-1)]\n",
    "    #get number of pegs and if this is even (solution differs based on this)\n",
    "    size = len(pegs)\n",
    "    even = True if size % 2 == 0 else False\n",
    "    #calculate y based on the differences\n",
    "    if even:\n",
    "        y = sum(diff[::2]) - sum(diff[1::2])\n",
    "        y = float(y) / 3\n",
    "    else:\n",
    "        y = sum(diff[::2]) - sum(diff[1::2])\n",
    "        y = y / 1\n",
    "        \n",
    "    #meet the constraint that x = 2y\n",
    "    x = y * 2\n",
    "    #work through all gears to make sure they are positive and > 1too\n",
    "    current = x\n",
    "    for i in range(len(diff)):\n",
    "        distance = diff[i]\n",
    "        next = distance - current\n",
    "        if ((current <1) or (next <1)):\n",
    "            return [-1,-1]\n",
    "        else:\n",
    "            current = next\n",
    "    #only return value if the sizes are positive\n",
    "    if (x >= 2):\n",
    "        ans = Fraction(x).limit_denominator() \n",
    "        return ans.numerator, ans.denominator\n",
    "    else:\n",
    "        return -1,-1\n"
   ]
  },
  {
   "cell_type": "code",
   "execution_count": 431,
   "id": "6e511c09",
   "metadata": {
    "scrolled": true
   },
   "outputs": [
    {
     "data": {
      "text/plain": [
       "(24, 1)"
      ]
     },
     "execution_count": 431,
     "metadata": {},
     "output_type": "execute_result"
    }
   ],
   "source": [
    "pegs = [4,30, 50,80]\n",
    "solution(pegs)"
   ]
  },
  {
   "cell_type": "code",
   "execution_count": 428,
   "id": "4a4a4b0f",
   "metadata": {},
   "outputs": [
    {
     "data": {
      "text/plain": [
       "[-1, -1]"
      ]
     },
     "execution_count": 428,
     "metadata": {},
     "output_type": "execute_result"
    }
   ],
   "source": [
    "pegs = [4,17,50]\n",
    "solution(pegs)"
   ]
  },
  {
   "cell_type": "code",
   "execution_count": 429,
   "id": "994860d8",
   "metadata": {
    "scrolled": true
   },
   "outputs": [
    {
     "data": {
      "text/plain": [
       "(14, 3)"
      ]
     },
     "execution_count": 429,
     "metadata": {},
     "output_type": "execute_result"
    }
   ],
   "source": [
    "pegs=[1,8]\n",
    "solution(pegs)"
   ]
  },
  {
   "cell_type": "markdown",
   "id": "a96d48f2",
   "metadata": {},
   "source": [
    "## task 2.2"
   ]
  },
  {
   "cell_type": "code",
   "execution_count": 598,
   "id": "f5aba3cc",
   "metadata": {},
   "outputs": [],
   "source": [
    "def postorder_traverse(h, target):\n",
    "    ## the number of integers in the tree\n",
    "    size = 2**h-1\n",
    "    \n",
    "    #define the parent and child nodes (assume only 1 number in tree)\n",
    "    parent_node = size\n",
    "    right_current = size\n",
    "    left_current = size\n",
    "    \n",
    "    # the # of subtrees  \n",
    "    layers = h - 1\n",
    "    \n",
    "    # if the parent node is the target node then there is no parent\n",
    "    if (target > 0 and target <= size):\n",
    "        if parent_node == target:\n",
    "            return -1\n",
    "    \n",
    "    # loop through posttraversal   \n",
    "    while(True):\n",
    "        # assign the right and left child nodes (the left node follows specific calculation)\n",
    "        right_current = parent_node - 1\n",
    "        level = ((2**layers)-1)\n",
    "        left_current = right_current - level\n",
    "        \n",
    "        # if the child node is the target then get the parent\n",
    "        if (target == left_current or target == right_current):\n",
    "            return parent_node\n",
    "        \n",
    "        # traverse down the tree\n",
    "        if (target < left_current):\n",
    "            parent_node = left_current\n",
    "            layers = layers - 1\n",
    "        if (target > left_current):\n",
    "            parent_node = right_current\n",
    "            layers = layers - 1\n",
    "    return -1\n",
    "\n",
    "def solution(h, q):\n",
    "    answers = []\n",
    "    for num in q:\n",
    "        answers.append(postorder_traverse(h,num))\n",
    "    return answers"
   ]
  },
  {
   "cell_type": "code",
   "execution_count": 600,
   "id": "8d09634a",
   "metadata": {},
   "outputs": [
    {
     "data": {
      "text/plain": [
       "[3, 15, 6]"
      ]
     },
     "execution_count": 600,
     "metadata": {},
     "output_type": "execute_result"
    }
   ],
   "source": [
    "solution(4, [1,7,4])"
   ]
  },
  {
   "cell_type": "markdown",
   "id": "0c1b113c",
   "metadata": {},
   "source": [
    "## task 3"
   ]
  },
  {
   "cell_type": "code",
   "execution_count": 881,
   "id": "cd7d0605",
   "metadata": {},
   "outputs": [],
   "source": [
    "import itertools\n",
    "import copy\n",
    "\n",
    "def solution(map):\n",
    "    n = len(map)\n",
    "    m = len(map[0])\n",
    "    shape = (n,m)\n",
    "    #row and column identifiers\n",
    "    rows = [str(x) for x in range(n)]\n",
    "    cols = [str(x) for x in range(m)]\n",
    "    #create nodes\n",
    "    nodes = [c+'-'+r for (c,r) in itertools.product(rows,cols)]\n",
    "    # add weights \n",
    "    impossible_weight = n*m\n",
    "    weights = [(node*impossible_weight)+1 for row in map for node in row]\n",
    "\n",
    "    results = []\n",
    "    for i, weight in enumerate(weights):\n",
    "        if weight > impossible_weight:\n",
    "            #create new weights removing one wall\n",
    "            new_weights = copy.deepcopy(weights)\n",
    "            new_weights[i] = new_weights[i] - impossible_weight\n",
    "            #create graph and run djikstras\n",
    "            graph = Graph(nodes, new_weights, shape)\n",
    "            shortest_path = dijkstra_algorithm(graph, nodes[0])\n",
    "            path = shortest_path.get(nodes[-1])+1\n",
    "            results.append(path)\n",
    "    answer = min(results)\n",
    "    return(answer)\n",
    "\n",
    "class Graph():\n",
    "    def __init__(self, nodes, weights,shape):\n",
    "        self.nodes = nodes\n",
    "        self.graph = self.construct_graph(nodes, weights, shape)\n",
    "        \n",
    "    def construct_graph(self, nodes, weights, shape):\n",
    "        n,m = shape\n",
    "        # create the graph from the new weights\n",
    "        in_graph = {}\n",
    "        #create adj list fr each node\n",
    "        for node in nodes:\n",
    "            in_graph[node] = {}\n",
    "        for i, node in enumerate(nodes):\n",
    "            #all but last node\n",
    "            if i < len(nodes) - 1:\n",
    "                # all nodest no in last column connect to the right\n",
    "                if (i+1) % m != 0:\n",
    "                    in_graph[node][nodes[i+1]] = max(weights[i], weights[i+1])\n",
    "                # all nodes not in last row connect to below\n",
    "                if i < len(nodes) - m :\n",
    "                    in_graph[node][nodes[i+m]] = max(weights[i], weights[i+m])\n",
    "\n",
    "        for node, edges in in_graph.items():\n",
    "            for adjacent_node, value in edges.items():\n",
    "                if in_graph[adjacent_node].get(node, False) == False:\n",
    "                    in_graph[adjacent_node][node] = value\n",
    "        return in_graph\n",
    "    \n",
    "    def get_nodes(self):\n",
    "        return self.nodes\n",
    "    \n",
    "    def get_outgoing_edges(self, node):\n",
    "        connections = []\n",
    "        for out_node in self.nodes:\n",
    "            if self.graph[node].get(out_node, False) != False:\n",
    "                connections.append(out_node)   \n",
    "        return connections\n",
    "    \n",
    "    def value(self, node1, node2):\n",
    "        return self.graph[node1][node2]\n",
    "        \n",
    "\n",
    "def dijkstra_algorithm(graph, start_node):\n",
    "    unvisited_nodes = list(graph.get_nodes())\n",
    "    shortest_path = {}\n",
    "    previous_nodes = {}\n",
    "    max_value = float(\"inf\")\n",
    "    \n",
    "    for node in unvisited_nodes:\n",
    "        shortest_path[node] = max_value\n",
    "    shortest_path[start_node] = 0\n",
    "        \n",
    "    while unvisited_nodes:\n",
    "        current_min_node = None\n",
    "        for node in unvisited_nodes:\n",
    "            if current_min_node == None:\n",
    "                current_min_node = node\n",
    "                        \n",
    "            elif shortest_path[current_min_node] > shortest_path[node]:\n",
    "                current_min_node = node\n",
    "                \n",
    "        neighbors = graph.get_outgoing_edges(current_min_node)\n",
    "        for neighbor in neighbors:\n",
    "            tentative_value = shortest_path[current_min_node] + graph.value(current_min_node, neighbor)\n",
    "            if tentative_value < shortest_path[neighbor]:\n",
    "                shortest_path[neighbor] = tentative_value\n",
    "                previous_nodes[neighbor] = current_min_node\n",
    "        unvisited_nodes.remove(current_min_node)\n",
    "    return shortest_path\n",
    "\n"
   ]
  },
  {
   "cell_type": "code",
   "execution_count": 882,
   "id": "87829eb2",
   "metadata": {},
   "outputs": [
    {
     "data": {
      "text/plain": [
       "11"
      ]
     },
     "execution_count": 882,
     "metadata": {},
     "output_type": "execute_result"
    }
   ],
   "source": [
    "map = [[0, 0, 0, 0, 0, 0], [1, 1, 1, 1, 1, 0], [0, 0, 0, 0, 0, 0], [0, 1, 1, 1, 1, 1], [0, 1, 1, 1, 1, 1], [0, 0, 0, 0, 0, 0]]\n",
    "solution(map)"
   ]
  },
  {
   "cell_type": "code",
   "execution_count": 860,
   "id": "85a1ea45",
   "metadata": {
    "scrolled": false
   },
   "outputs": [
    {
     "data": {
      "text/plain": [
       "7"
      ]
     },
     "execution_count": 860,
     "metadata": {},
     "output_type": "execute_result"
    }
   ],
   "source": [
    "map = [[0, 1, 1, 0], [0, 0, 0, 1], [1, 1, 0, 0], [1, 1, 1, 0]]\n",
    "solution(map)"
   ]
  },
  {
   "cell_type": "markdown",
   "id": "59051dff",
   "metadata": {},
   "source": [
    "## task 3.2"
   ]
  },
  {
   "cell_type": "code",
   "execution_count": 964,
   "id": "a44129a9",
   "metadata": {},
   "outputs": [],
   "source": [
    "n = 200"
   ]
  },
  {
   "cell_type": "code",
   "execution_count": 969,
   "id": "6340d3ab",
   "metadata": {
    "scrolled": true
   },
   "outputs": [],
   "source": [
    "def solution(n):\n",
    "    #create DP table\n",
    "    steps = [[0 for _ in range(n+1)] for _ in range(n+1)]\n",
    "    steps[0][0] = 1\n",
    "    #fill this in sequentially moving across columns then rows\n",
    "    for brick in range(1, n+1):\n",
    "        for height in range(n+1):\n",
    "            steps[brick][height] = steps[brick-1][height]\n",
    "            if height >= brick:\n",
    "                steps[brick][height] += steps[brick-1][height-brick]\n",
    "    return steps[n][n] -1"
   ]
  },
  {
   "cell_type": "code",
   "execution_count": 970,
   "id": "663fa418",
   "metadata": {},
   "outputs": [
    {
     "data": {
      "text/plain": [
       "487067745"
      ]
     },
     "execution_count": 970,
     "metadata": {},
     "output_type": "execute_result"
    }
   ],
   "source": [
    "solution(200)"
   ]
  },
  {
   "cell_type": "code",
   "execution_count": 1013,
   "id": "a4df0c24",
   "metadata": {},
   "outputs": [
    {
     "data": {
      "text/plain": [
       "7"
      ]
     },
     "execution_count": 1013,
     "metadata": {},
     "output_type": "execute_result"
    }
   ],
   "source": [
    "15//2"
   ]
  },
  {
   "cell_type": "markdown",
   "id": "2078d2f8",
   "metadata": {},
   "source": [
    "## task 3.3"
   ]
  },
  {
   "cell_type": "code",
   "execution_count": 1108,
   "id": "94b31f36",
   "metadata": {},
   "outputs": [],
   "source": [
    "def solution(n):\n",
    "    n = int(n)\n",
    "    steps = 0\n",
    "    while n > 1:\n",
    "        if n % 2 == 0:\n",
    "            n = n/2\n",
    "        elif ((n!=3) or (bin(n)[-3:] == '111')):\n",
    "            n += 1\n",
    "        else:\n",
    "            n -=1\n",
    "        steps +=1 \n",
    "    return steps"
   ]
  },
  {
   "cell_type": "code",
   "execution_count": 1117,
   "id": "6d83035f",
   "metadata": {},
   "outputs": [],
   "source": [
    "n = 15\n"
   ]
  },
  {
   "cell_type": "code",
   "execution_count": 1118,
   "id": "9240c5c4",
   "metadata": {
    "scrolled": false
   },
   "outputs": [
    {
     "data": {
      "text/plain": [
       "5"
      ]
     },
     "execution_count": 1118,
     "metadata": {},
     "output_type": "execute_result"
    }
   ],
   "source": [
    "solution(n)\n"
   ]
  },
  {
   "cell_type": "markdown",
   "id": "a4125d56",
   "metadata": {},
   "source": [
    "## task 4.1"
   ]
  },
  {
   "cell_type": "code",
   "execution_count": 14,
   "id": "f31470ed",
   "metadata": {},
   "outputs": [],
   "source": [
    "from fractions import math\n",
    "import itertools \n",
    "\n",
    "def loops(x,y):\n",
    "    total = x + y\n",
    "    great_common_denom = math.gcd(x,y)\n",
    "    z = total / great_common_denom\n",
    "    z = int(z)\n",
    "    return bool((z & (z-1)))\n",
    "\n",
    "def createGraph(banana_list):\n",
    "    ## identify infinite loops\n",
    "    nodes = {}\n",
    "    ## give each node a unique name in case there are repeat numbers\n",
    "    node_names = [str(i) for i in range(len(banana_list))]\n",
    "    for i, node in enumerate(banana_list):\n",
    "        nodes[node_names[i]] = node\n",
    "\n",
    "    combs = list(itertools.combinations(node_names,2))\n",
    "    inf = []\n",
    "    for comb in combs:\n",
    "        if loops(nodes[comb[0]],nodes[comb[1]]) == True:\n",
    "            inf.append(comb)\n",
    "\n",
    "    ##create matrix    \n",
    "    graph = [[0 for i in range(len(banana_list))] for i in range(len(banana_list))]\n",
    "\n",
    "    for i in inf:\n",
    "        graph[node_names.index(i[0])][node_names.index(i[1])] = 1\n",
    "        graph[node_names.index(i[1])][node_names.index(i[0])] = 1\n",
    "\n",
    "    return graph\n",
    "\n",
    "# Python program to findmaximal Bipartite matching.\n",
    "\n",
    "class GFG:\n",
    "\tdef __init__(self,graph):\n",
    "\t\t\n",
    "\t\t# residual graph\n",
    "\t\tself.graph = graph\n",
    "\t\tself.node_a = len(graph)\n",
    "\t\tself.node_b = len(graph[0])\n",
    "\n",
    "\t# A DFS based recursive function\n",
    "\t# that returns true if a matching\n",
    "\t# for vertex u is possible\n",
    "\tdef bpm(self, u, matchR, seen):\n",
    "\n",
    "\t\t# Try every node one by one\n",
    "\t\tfor v in range(self.node_a):\n",
    "\n",
    "\t\t\t# If applicant u is interested\n",
    "\t\t\t# in job v and v is not seen\n",
    "\t\t\tif self.graph[u][v] and seen[v] == False:\n",
    "\t\t\t\t\n",
    "\t\t\t\t# Mark v as visited\n",
    "\t\t\t\tseen[v] = True\n",
    "                \n",
    "\t\t\t\tif matchR[v] == -1 or self.bpm(matchR[v],\n",
    "\t\t\t\t\t\t\t\t\t\t\tmatchR, seen):\n",
    "\t\t\t\t\tmatchR[v] = u\n",
    "\t\t\t\t\treturn True\n",
    "\t\treturn False\n",
    "\n",
    "\t# Returns maximum number of matching\n",
    "\tdef maxBPM(self):\n",
    "\t\tmatchR = [-1] * self.node_b\n",
    "\t\t\n",
    "\t\tresult = 0\n",
    "\t\tfor i in range(self.node_a):\n",
    "\t\t\t\n",
    "\t\t\tseen = [False] * self.node_b\n",
    "\t\t\t\n",
    "\t\t\tif self.bpm(i, matchR, seen):\n",
    "\t\t\t\tresult += 1\n",
    "\t\treturn result\n",
    "\n",
    "def solution(banana_list):\n",
    "    graph = createGraph(banana_list)\n",
    "    bmp = GFG(graph)\n",
    "    max_match = bmp.maxBPM()\n",
    "    if max_match % 2 == 0:\n",
    "        ans =  len(banana_list) - max_match\n",
    "    else:\n",
    "        ans =  len(banana_list) - max_match + 1\n",
    "    return ans\n"
   ]
  },
  {
   "cell_type": "code",
   "execution_count": 15,
   "id": "9a4d1fc9",
   "metadata": {
    "scrolled": false
   },
   "outputs": [
    {
     "data": {
      "text/plain": [
       "0"
      ]
     },
     "execution_count": 15,
     "metadata": {},
     "output_type": "execute_result"
    }
   ],
   "source": [
    "solution([4,3, 4, 3])"
   ]
  },
  {
   "cell_type": "code",
   "execution_count": 16,
   "id": "614c1c4e",
   "metadata": {},
   "outputs": [
    {
     "data": {
      "text/plain": [
       "0"
      ]
     },
     "execution_count": 16,
     "metadata": {},
     "output_type": "execute_result"
    }
   ],
   "source": [
    "banana_list = [1, 7, 3, 21, 13, 19]\n",
    "solution(banana_list)"
   ]
  },
  {
   "cell_type": "markdown",
   "id": "82020288",
   "metadata": {},
   "source": [
    "# task 4.2"
   ]
  },
  {
   "cell_type": "code",
   "execution_count": 635,
   "id": "ab1e6fae",
   "metadata": {},
   "outputs": [],
   "source": [
    "from __future__ import division\n",
    "import math\n",
    "from math import atan2\n",
    "import itertools \n",
    "\n",
    "def mirrorCreator(room_dim, coords, dist):\n",
    "    mirror = []\n",
    "    for reflection in itertools.product(*[range(-(dist // -d) + 1) for d in room_dim]):\n",
    "        for quad in [(1, 1), (-1, 1), (-1, -1), (1, -1)]:\n",
    "            pos = tuple([\n",
    "                (d * r + (d - c if r % 2 else c)) * q\n",
    "                for d, c, r, q in zip(room_dim, coords, reflection, quad)\n",
    "            ])\n",
    "            mirror.append(pos)\n",
    "    return list(set(mirror))\n",
    "\n",
    "def dist_check(a,b):\n",
    "    x,y = a[0],a[1]\n",
    "    x2,y2 = b\n",
    "    return ((x-x2)**2 + (y-y2)**2)**0.5\n",
    "\n",
    "def reachCheck(me, mirror_other, mirror_me, dist):\n",
    "    hit_me = {}\n",
    "    for me_m in mirror_me:\n",
    "        dist_m = dist_check(me, me_m)\n",
    "        angle = getAngle(me, me_m)\n",
    "        if (dist_m <= dist and angle not in hit_me) or (angle in hit_me and dist_m < abs(hit_me[angle])):\n",
    "            hit_me[angle] = dist_m\n",
    "    \n",
    "    hit = {}\n",
    "    for other_m in mirror_other:\n",
    "        dist_m = dist_check(me, other_m)\n",
    "        angle = getAngle(me, other_m)\n",
    "        if ((dist_m <= dist) and (angle not in hit)):\n",
    "            if angle not in hit_me or (angle in hit_me and dist_m < hit_me[angle]):\n",
    "                hit[angle] = dist_m\n",
    "        elif (angle in hit) and (dist_m < abs(hit[angle])):\n",
    "            hit[angle] = dist_m\n",
    "            \n",
    "    return len(hit.keys())\n",
    "\n",
    "def getAngle(me, other):\n",
    "    ang = atan2(other[0]-me[0], other[1]-me[1])\n",
    "    return ang\n",
    "\n",
    "def solution(dimensions, your_position, trainer_position, distance):\n",
    "    room_dim, me, other, dist = dimensions, your_position, trainer_position, distance\n",
    "    mirror_me, mirror_other = mirrorCreator(room_dim, me, dist), mirrorCreator(room_dim, other, dist)\n",
    "    hit= reachCheck(me, mirror_other, mirror_me, dist)\n",
    "    return hit"
   ]
  },
  {
   "cell_type": "code",
   "execution_count": 636,
   "id": "a6894cba",
   "metadata": {},
   "outputs": [],
   "source": [
    "dimensions, your_position, trainer_position, distance = [3,2], [1,1], [2,1], 4"
   ]
  },
  {
   "cell_type": "code",
   "execution_count": 638,
   "id": "b53061df",
   "metadata": {
    "scrolled": false
   },
   "outputs": [
    {
     "data": {
      "text/plain": [
       "7"
      ]
     },
     "execution_count": 638,
     "metadata": {},
     "output_type": "execute_result"
    }
   ],
   "source": [
    "solution(dimensions, your_position, trainer_position, distance)"
   ]
  },
  {
   "cell_type": "markdown",
   "id": "ac512898",
   "metadata": {},
   "source": [
    "## task 5"
   ]
  },
  {
   "cell_type": "code",
   "execution_count": 261,
   "id": "de9f6a2f",
   "metadata": {},
   "outputs": [],
   "source": [
    "import decimal\n",
    "\n",
    "def solution(n):\n",
    "    n = int(n)\n",
    "    decimal.getcontext().prec = 101\n",
    "    sqrt2 = decimal.Decimal(2).sqrt()\n",
    "    return str(calculation(n, sqrt2))\n",
    "    \n",
    "def calculation(n, sqrt2):\n",
    "    if n == 0:\n",
    "        return 0\n",
    "    n_prime = int(n*(sqrt2-1))\n",
    "    answer = n*n_prime + n*(n+1)/2 - n_prime*(n_prime+1)/2 - calculation(n_prime, sqrt2)\n",
    "    return int(answer)"
   ]
  },
  {
   "cell_type": "code",
   "execution_count": 251,
   "id": "3ad02a91",
   "metadata": {},
   "outputs": [],
   "source": [
    "x = str(10**100)"
   ]
  },
  {
   "cell_type": "code",
   "execution_count": 260,
   "id": "346ce917",
   "metadata": {
    "scrolled": false
   },
   "outputs": [
    {
     "data": {
      "text/plain": [
       "'70710678118654752143350645116549947070840466124095050755453529494069282968337833969770392878674272517953662957768365280642962041509630934104758541368362044363113819683359518041450836040875813896192000'"
      ]
     },
     "execution_count": 260,
     "metadata": {},
     "output_type": "execute_result"
    }
   ],
   "source": [
    "solution(x)"
   ]
  },
  {
   "cell_type": "code",
   "execution_count": 253,
   "id": "5ac94bee",
   "metadata": {
    "scrolled": false
   },
   "outputs": [
    {
     "data": {
      "text/plain": [
       "'70710678118654752143350645116549947070840466124095050755453529494069282968337833969770392878674272517953662957768365280642962041509630934104758541368362044363113819683359518041450836040875813896192000'"
      ]
     },
     "execution_count": 253,
     "metadata": {},
     "output_type": "execute_result"
    }
   ],
   "source": [
    "solution1(x)"
   ]
  },
  {
   "cell_type": "code",
   "execution_count": 191,
   "id": "fb84aed1",
   "metadata": {},
   "outputs": [],
   "source": [
    "\n",
    "from decimal import *\n",
    "\n",
    "\n",
    "def S(a, n):\n",
    "    if n == 0:\n",
    "        return 0\n",
    "    np = int((a - 1) * n)\n",
    "    return n * np + n * (n + 1) / 2 - np * (np + 1) / 2 - S(a, np)\n",
    "\n",
    "\n",
    "def solution(s):\n",
    "    getcontext().prec = 101\n",
    "    return str(S(Decimal(2).sqrt(), int(s)))\n"
   ]
  }
 ],
 "metadata": {
  "kernelspec": {
   "display_name": "Python 3 (ipykernel)",
   "language": "python",
   "name": "python3"
  },
  "language_info": {
   "codemirror_mode": {
    "name": "ipython",
    "version": 3
   },
   "file_extension": ".py",
   "mimetype": "text/x-python",
   "name": "python",
   "nbconvert_exporter": "python",
   "pygments_lexer": "ipython3",
   "version": "3.9.7"
  }
 },
 "nbformat": 4,
 "nbformat_minor": 5
}
